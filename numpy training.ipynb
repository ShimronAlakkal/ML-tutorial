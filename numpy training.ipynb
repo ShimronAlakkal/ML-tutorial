{
 "cells": [
  {
   "cell_type": "markdown",
   "metadata": {},
   "source": [
    "# Numpy tutorial"
   ]
  },
  {
   "cell_type": "code",
   "execution_count": 1,
   "metadata": {},
   "outputs": [],
   "source": [
    "# import the library to access its functions (obviously)\n",
    "\n",
    "import numpy as np"
   ]
  },
  {
   "cell_type": "markdown",
   "metadata": {},
   "source": [
    "## 1. Data types and attributes\n",
    "\n",
    "> 1. Creating an array\n",
    "> 2. Knowing the datatype of the array\n",
    "> 3. Knowing the datatype of the values in the array\n",
    "> 4. Knowing the size or the length of the array "
   ]
  },
  {
   "cell_type": "code",
   "execution_count": 2,
   "metadata": {},
   "outputs": [
    {
     "data": {
      "text/plain": [
       "array([1, 2, 3, 4, 5])"
      ]
     },
     "execution_count": 2,
     "metadata": {},
     "output_type": "execute_result"
    }
   ],
   "source": [
    "# ndarry()  or n-dimensional array is numpy's only data type\n",
    "# 1\n",
    "\n",
    "ar1 = np.array([1,2,3,4,5])\n",
    "ar1"
   ]
  },
  {
   "cell_type": "code",
   "execution_count": 3,
   "metadata": {},
   "outputs": [
    {
     "data": {
      "text/plain": [
       "numpy.ndarray"
      ]
     },
     "execution_count": 3,
     "metadata": {},
     "output_type": "execute_result"
    }
   ],
   "source": [
    "# to get the data type of the array, use \n",
    "#2 \n",
    "\n",
    "type(ar1)"
   ]
  },
  {
   "cell_type": "code",
   "execution_count": 4,
   "metadata": {},
   "outputs": [
    {
     "data": {
      "text/plain": [
       "dtype('int32')"
      ]
     },
     "execution_count": 4,
     "metadata": {},
     "output_type": "execute_result"
    }
   ],
   "source": [
    "#3\n",
    "# to get the data type of values inside the array use \n",
    "\n",
    "ar1.dtype"
   ]
  },
  {
   "cell_type": "code",
   "execution_count": 5,
   "metadata": {},
   "outputs": [
    {
     "data": {
      "text/plain": [
       "(5,)"
      ]
     },
     "execution_count": 5,
     "metadata": {},
     "output_type": "execute_result"
    }
   ],
   "source": [
    "#4\n",
    "# to get the dimension of the array, use\n",
    "ar1.shape"
   ]
  },
  {
   "cell_type": "code",
   "execution_count": 7,
   "metadata": {},
   "outputs": [
    {
     "data": {
      "text/plain": [
       "5"
      ]
     },
     "execution_count": 7,
     "metadata": {},
     "output_type": "execute_result"
    }
   ],
   "source": [
    "# to get the length or the size of the array, use \n",
    "ar1.size"
   ]
  },
  {
   "cell_type": "markdown",
   "metadata": {},
   "source": [
    "# creating different type of arrays \n",
    "> 1. Array of ones\n",
    "> 2. Array of zeros\n",
    "> 3. Array of random values between 0 and 1\n",
    "> 4. Array of random values between two specified integers \n",
    "> 5. Linear arrangement of values in an array"
   ]
  },
  {
   "cell_type": "code",
   "execution_count": 8,
   "metadata": {},
   "outputs": [
    {
     "data": {
      "text/plain": [
       "array([[1., 1., 1.],\n",
       "       [1., 1., 1.]])"
      ]
     },
     "execution_count": 8,
     "metadata": {},
     "output_type": "execute_result"
    }
   ],
   "source": [
    "#  generates an array of ones with the dimensions 2 rows and 3 columns \n",
    "ones = np.ones((2,3))\n",
    "ones"
   ]
  },
  {
   "cell_type": "code",
   "execution_count": 10,
   "metadata": {},
   "outputs": [
    {
     "data": {
      "text/plain": [
       "array([[[1., 1., 1., 1., 1.],\n",
       "        [1., 1., 1., 1., 1.]],\n",
       "\n",
       "       [[1., 1., 1., 1., 1.],\n",
       "        [1., 1., 1., 1., 1.]],\n",
       "\n",
       "       [[1., 1., 1., 1., 1.],\n",
       "        [1., 1., 1., 1., 1.]],\n",
       "\n",
       "       [[1., 1., 1., 1., 1.],\n",
       "        [1., 1., 1., 1., 1.]]])"
      ]
     },
     "execution_count": 10,
     "metadata": {},
     "output_type": "execute_result"
    }
   ],
   "source": [
    "# create an array that is 3 dimensional which is 4 in number only of ones with 5 columns, 2 rows \n",
    "\n",
    "ThreeDArrayOfOnes = np.ones((4,2,5))\n",
    "ThreeDArrayOfOnes"
   ]
  },
  {
   "cell_type": "code",
   "execution_count": 11,
   "metadata": {},
   "outputs": [
    {
     "data": {
      "text/plain": [
       "array([[0., 0., 0.],\n",
       "       [0., 0., 0.]])"
      ]
     },
     "execution_count": 11,
     "metadata": {},
     "output_type": "execute_result"
    }
   ],
   "source": [
    "# array of just zeros with 3 columns and 2 rows \n",
    "\n",
    "zeros = np.zeros((2,3))\n",
    "zeros"
   ]
  },
  {
   "cell_type": "code",
   "execution_count": 15,
   "metadata": {},
   "outputs": [
    {
     "data": {
      "text/plain": [
       "array([1, 3, 5, 7, 9])"
      ]
     },
     "execution_count": 15,
     "metadata": {},
     "output_type": "execute_result"
    }
   ],
   "source": [
    "# an even arrangement of values from 1 to 10 with a step or a difference of 2 from each consecutive one\n",
    "'''\n",
    "for instance :\n",
    "\n",
    "print(np.arange(5,10,3))  is going to return \n",
    "\n",
    "5 , 8 because the only value that could be returned between 5 and 10 with a difference 3 starting from 5 is just 8 and no other.\n",
    "The next difference would be giving out 11 which is out of the range -- which is 10 in this case.\n",
    "\n",
    "So the code is basically telling the computer to find numbers from 5 (included) to 10(not included) and evenly space it such that the \n",
    "difference of 2 consecutive numbers in the output is 3\n",
    "'''\n",
    "\n",
    "range_array = np.arange(1,10,2)\n",
    "range_array"
   ]
  },
  {
   "cell_type": "code",
   "execution_count": 18,
   "metadata": {},
   "outputs": [
    {
     "data": {
      "text/plain": [
       "array([[2, 3, 1, 1, 5],\n",
       "       [2, 3, 7, 4, 9]])"
      ]
     },
     "execution_count": 18,
     "metadata": {},
     "output_type": "execute_result"
    }
   ],
   "source": [
    "# random array is going to be created with start ,stop ,shape of the array \n",
    "\n",
    "'''\n",
    "The code is going to tell the computer to create an array with random values in it ranging from 1 through 10, with the dimension\n",
    "of the array being like 2 rows and 5 columns\n",
    "'''\n",
    "\n",
    "random_array = np.random.randint(1,10,(2,5))\n",
    "random_array"
   ]
  },
  {
   "cell_type": "code",
   "execution_count": 25,
   "metadata": {},
   "outputs": [
    {
     "name": "stdout",
     "output_type": "stream",
     "text": [
      "[[[[0.58221172 0.9508188 ]\n",
      "   [0.93556015 0.41293266]\n",
      "   [0.71840446 0.48852779]\n",
      "   [0.38663905 0.53137779]]\n",
      "\n",
      "  [[0.10566128 0.38098636]\n",
      "   [0.80505425 0.4807067 ]\n",
      "   [0.48248707 0.81115172]\n",
      "   [0.17007907 0.10698057]]]\n",
      "\n",
      "\n",
      " [[[0.9290969  0.72777708]\n",
      "   [0.7320244  0.96069177]\n",
      "   [0.37902949 0.40822023]\n",
      "   [0.87664519 0.21626631]]\n",
      "\n",
      "  [[0.58862643 0.15319388]\n",
      "   [0.26768679 0.68762942]\n",
      "   [0.72743449 0.10006738]\n",
      "   [0.84247593 0.48565463]]]\n",
      "\n",
      "\n",
      " [[[0.54769578 0.11898614]\n",
      "   [0.71946956 0.09310723]\n",
      "   [0.53715894 0.13369949]\n",
      "   [0.24999773 0.53952969]]\n",
      "\n",
      "  [[0.65195471 0.30811565]\n",
      "   [0.61724769 0.72121225]\n",
      "   [0.76395204 0.90803763]\n",
      "   [0.02957547 0.79969378]]]\n",
      "\n",
      "\n",
      " [[[0.26308296 0.81513345]\n",
      "   [0.33306838 0.65827413]\n",
      "   [0.67350741 0.59602839]\n",
      "   [0.34386726 0.71512846]]\n",
      "\n",
      "  [[0.93205663 0.05475658]\n",
      "   [0.51486035 0.78096196]\n",
      "   [0.37799675 0.46567322]\n",
      "   [0.08103363 0.71157819]]]\n",
      "\n",
      "\n",
      " [[[0.01301824 0.04870746]\n",
      "   [0.91733982 0.52983455]\n",
      "   [0.35376329 0.51025566]\n",
      "   [0.97512798 0.10972247]]\n",
      "\n",
      "  [[0.93146191 0.58937008]\n",
      "   [0.13621033 0.77490258]\n",
      "   [0.11573509 0.17991736]\n",
      "   [0.66030672 0.47906926]]]]\n",
      "93.3 ns ± 9.49 ns per loop (mean ± std. dev. of 7 runs, 10000000 loops each)\n"
     ]
    }
   ],
   "source": [
    "# could creatw a random array of dim1,dim2,dim3,...,dimn\n",
    "\n",
    "'''\n",
    "the values in the array would always be in between 0 and 1 and the dimensions of the array gould go upto infinity \n",
    "'''\n",
    "\n",
    "random_array3 = np.random.rand(5,2,4,2)\n",
    "print(random_array3)\n",
    "\n",
    "\n",
    "%timeit random_array3 # this is gonna return an approx time for the calculation and generation of this array"
   ]
  },
  {
   "cell_type": "code",
   "execution_count": 26,
   "metadata": {},
   "outputs": [
    {
     "data": {
      "text/plain": [
       "array([[0.5507979 , 0.70814782, 0.29090474, 0.51082761],\n",
       "       [0.89294695, 0.89629309, 0.12558531, 0.20724288],\n",
       "       [0.0514672 , 0.44080984, 0.02987621, 0.45683322],\n",
       "       [0.64914405, 0.27848728, 0.6762549 , 0.59086282],\n",
       "       [0.02398188, 0.55885409, 0.25925245, 0.4151012 ]])"
      ]
     },
     "execution_count": 26,
     "metadata": {},
     "output_type": "execute_result"
    }
   ],
   "source": [
    "# random seeds or pseudo random numbers \n",
    "np.random.seed(3)\n",
    "\n",
    "# random.seed( a number ) is basically used to make the created array reproducable , exactly like what it was\n",
    "\n",
    "ra1 = np.random.rand(5,4)\n",
    "ra1"
   ]
  },
  {
   "cell_type": "code",
   "execution_count": 28,
   "metadata": {},
   "outputs": [
    {
     "data": {
      "text/plain": [
       "array([[0.28352508, 0.69313792, 0.44045372, 0.15686774],\n",
       "       [0.54464902, 0.78031476, 0.30636353, 0.22195788],\n",
       "       [0.38797126, 0.93638365, 0.97599542, 0.67238368]])"
      ]
     },
     "execution_count": 28,
     "metadata": {},
     "output_type": "execute_result"
    }
   ],
   "source": [
    "r2 = np.random.rand(3,4)\n",
    "r2"
   ]
  },
  {
   "cell_type": "markdown",
   "metadata": {},
   "source": [
    "# viewing arrays and matrices"
   ]
  },
  {
   "cell_type": "code",
   "execution_count": 29,
   "metadata": {},
   "outputs": [
    {
     "data": {
      "text/plain": [
       "array([0.15686774, 0.22195788, 0.28352508, 0.30636353, 0.38797126,\n",
       "       0.44045372, 0.54464902, 0.67238368, 0.69313792, 0.78031476,\n",
       "       0.93638365, 0.97599542])"
      ]
     },
     "execution_count": 29,
     "metadata": {},
     "output_type": "execute_result"
    }
   ],
   "source": [
    "# finding unique elements in a numpy array \n",
    "np.unique(r2)"
   ]
  },
  {
   "cell_type": "code",
   "execution_count": 30,
   "metadata": {},
   "outputs": [
    {
     "data": {
      "text/plain": [
       "array([0.28352508, 0.69313792, 0.44045372, 0.15686774])"
      ]
     },
     "execution_count": 30,
     "metadata": {},
     "output_type": "execute_result"
    }
   ],
   "source": [
    "# returns the value(s) which is in the 0th index of a r2 , a numpy array\n",
    "r2[0]"
   ]
  },
  {
   "cell_type": "code",
   "execution_count": 32,
   "metadata": {},
   "outputs": [
    {
     "data": {
      "text/plain": [
       "array([[[1, 3, 5, 6, 9],\n",
       "        [9, 8, 6, 2, 2],\n",
       "        [2, 6, 6, 8, 5]],\n",
       "\n",
       "       [[4, 1, 1, 1, 1],\n",
       "        [3, 3, 8, 1, 6],\n",
       "        [1, 2, 5, 2, 3]]])"
      ]
     },
     "execution_count": 32,
     "metadata": {},
     "output_type": "execute_result"
    }
   ],
   "source": [
    "a4 = np.random.randint(1,10,(2,3,5))\n",
    "a4\n"
   ]
  },
  {
   "cell_type": "code",
   "execution_count": 33,
   "metadata": {},
   "outputs": [
    {
     "data": {
      "text/plain": [
       "((2, 3, 5), 3)"
      ]
     },
     "execution_count": 33,
     "metadata": {},
     "output_type": "execute_result"
    }
   ],
   "source": [
    "a4.shape , a4.ndim"
   ]
  },
  {
   "cell_type": "code",
   "execution_count": 34,
   "metadata": {},
   "outputs": [
    {
     "data": {
      "text/plain": [
       "array([1, 3, 5, 6, 9])"
      ]
     },
     "execution_count": 34,
     "metadata": {},
     "output_type": "execute_result"
    }
   ],
   "source": [
    "a4[0][0]\n",
    "# returns the value in the 0th index of the 0th index of a4"
   ]
  },
  {
   "cell_type": "code",
   "execution_count": 42,
   "metadata": {},
   "outputs": [
    {
     "name": "stdout",
     "output_type": "stream",
     "text": [
      "[[[1 3 5 6 9]\n",
      "  [9 8 6 2 2]\n",
      "  [2 6 6 8 5]]\n",
      "\n",
      " [[4 1 1 1 1]\n",
      "  [3 3 8 1 6]\n",
      "  [1 2 5 2 3]]]\n",
      "***********************\n",
      "[[6 6]\n",
      " [8 5]]\n"
     ]
    }
   ],
   "source": [
    "'''\n",
    "say we need to get the 3rd value onwards from the 1st (0 being the beginning) index of both of the 2D arrays\n",
    "'''\n",
    "print(a4)\n",
    "print('***********************')\n",
    "print(a4[0:,1:,2])"
   ]
  },
  {
   "cell_type": "markdown",
   "metadata": {},
   "source": [
    "# manipulating arrays and comparing "
   ]
  },
  {
   "cell_type": "code",
   "execution_count": 44,
   "metadata": {},
   "outputs": [
    {
     "data": {
      "text/plain": [
       "array([1., 1., 1.])"
      ]
     },
     "execution_count": 44,
     "metadata": {},
     "output_type": "execute_result"
    }
   ],
   "source": [
    "# arithmatic\n",
    "ones = np.ones(3)\n",
    "ones\n",
    "arr = np.ones(3)\n",
    "arr"
   ]
  },
  {
   "cell_type": "code",
   "execution_count": 45,
   "metadata": {},
   "outputs": [
    {
     "data": {
      "text/plain": [
       "array([2., 2., 2.])"
      ]
     },
     "execution_count": 45,
     "metadata": {},
     "output_type": "execute_result"
    }
   ],
   "source": [
    "# adding \n",
    "arr + ones"
   ]
  },
  {
   "cell_type": "code",
   "execution_count": 46,
   "metadata": {
    "scrolled": true
   },
   "outputs": [
    {
     "data": {
      "text/plain": [
       "array([0., 0., 0.])"
      ]
     },
     "execution_count": 46,
     "metadata": {},
     "output_type": "execute_result"
    }
   ],
   "source": [
    "# subtracting \n",
    "arr - ones"
   ]
  },
  {
   "cell_type": "code",
   "execution_count": 47,
   "metadata": {},
   "outputs": [
    {
     "data": {
      "text/plain": [
       "array([ 6, 10, 16])"
      ]
     },
     "execution_count": 47,
     "metadata": {},
     "output_type": "execute_result"
    }
   ],
   "source": [
    "# multiplying\n",
    "ar = np.array([2,5,4])\n",
    "arr = np.array([3,2,4])\n",
    "arr * ar"
   ]
  },
  {
   "cell_type": "code",
   "execution_count": 48,
   "metadata": {},
   "outputs": [
    {
     "data": {
      "text/plain": [
       "array([1.5, 0.4, 1. ])"
      ]
     },
     "execution_count": 48,
     "metadata": {},
     "output_type": "execute_result"
    }
   ],
   "source": [
    "arr/ar"
   ]
  },
  {
   "cell_type": "code",
   "execution_count": 49,
   "metadata": {},
   "outputs": [
    {
     "data": {
      "text/plain": [
       "array([1, 0, 1], dtype=int32)"
      ]
     },
     "execution_count": 49,
     "metadata": {},
     "output_type": "execute_result"
    }
   ],
   "source": [
    "arr//ar"
   ]
  },
  {
   "cell_type": "code",
   "execution_count": 50,
   "metadata": {},
   "outputs": [
    {
     "data": {
      "text/plain": [
       "array([ 4, 25, 16], dtype=int32)"
      ]
     },
     "execution_count": 50,
     "metadata": {},
     "output_type": "execute_result"
    }
   ],
   "source": [
    "ar  ** 2"
   ]
  },
  {
   "cell_type": "code",
   "execution_count": 51,
   "metadata": {},
   "outputs": [
    {
     "data": {
      "text/plain": [
       "array([ 9,  4, 16], dtype=int32)"
      ]
     },
     "execution_count": 51,
     "metadata": {},
     "output_type": "execute_result"
    }
   ],
   "source": [
    "np.square(arr)"
   ]
  },
  {
   "cell_type": "code",
   "execution_count": 52,
   "metadata": {},
   "outputs": [
    {
     "data": {
      "text/plain": [
       "array([5, 7, 8])"
      ]
     },
     "execution_count": 52,
     "metadata": {},
     "output_type": "execute_result"
    }
   ],
   "source": [
    "# adding two arrays , judt like the 'ar + arr'\n",
    "np.add(ar ,arr)"
   ]
  },
  {
   "cell_type": "code",
   "execution_count": 53,
   "metadata": {},
   "outputs": [
    {
     "name": "stdout",
     "output_type": "stream",
     "text": [
      "[  7.3890561  148.4131591   54.59815003]\n",
      "[0.30103    0.69897    0.60205999]\n",
      "[0.69314718 1.60943791 1.38629436]\n"
     ]
    }
   ],
   "source": [
    "# exponential and log of 10 ansd natural log\n",
    "print(np.exp(ar))\n",
    "print(np.log10(ar))\n",
    "print(np.log(ar))"
   ]
  },
  {
   "cell_type": "code",
   "execution_count": 55,
   "metadata": {},
   "outputs": [
    {
     "name": "stdout",
     "output_type": "stream",
     "text": [
      "32\n",
      "32\n"
     ]
    }
   ],
   "source": [
    "# returns the dot product of both arrays\n",
    "print(np.dot(arr,ar))\n",
    "print(np.dot(ar,arr))"
   ]
  },
  {
   "cell_type": "markdown",
   "metadata": {},
   "source": [
    "## aggregation\n",
    "performing a same operation in a number of things is the meaning of aggregation"
   ]
  },
  {
   "cell_type": "code",
   "execution_count": 71,
   "metadata": {},
   "outputs": [
    {
     "data": {
      "text/plain": [
       "array([2, 5, 4])"
      ]
     },
     "execution_count": 71,
     "metadata": {},
     "output_type": "execute_result"
    }
   ],
   "source": [
    "ar"
   ]
  },
  {
   "cell_type": "code",
   "execution_count": 72,
   "metadata": {},
   "outputs": [
    {
     "data": {
      "text/plain": [
       "array([[ 5,  4,  6,  7, 10],\n",
       "       [12, 11, 14,  3,  8],\n",
       "       [ 3,  8, 11, 10,  8]])"
      ]
     },
     "execution_count": 72,
     "metadata": {},
     "output_type": "execute_result"
    }
   ],
   "source": [
    "sum(a4)"
   ]
  },
  {
   "cell_type": "code",
   "execution_count": 73,
   "metadata": {},
   "outputs": [
    {
     "data": {
      "text/plain": [
       "120"
      ]
     },
     "execution_count": 73,
     "metadata": {},
     "output_type": "execute_result"
    }
   ],
   "source": [
    "np.sum(a4)"
   ]
  },
  {
   "cell_type": "code",
   "execution_count": 57,
   "metadata": {},
   "outputs": [
    {
     "data": {
      "text/plain": [
       "array([0.12964145, 0.92697559, 0.616819  , 0.05153737, 0.36108038,\n",
       "       0.88217274, 0.6444884 , 0.60692855, 0.95783665, 0.07570919,\n",
       "       0.78218982, 0.99734184, 0.46356287, 0.85842624, 0.02470344,\n",
       "       0.34716085, 0.16992056, 0.63355341, 0.45900967, 0.71228375,\n",
       "       0.75062315, 0.45071879, 0.43286486, 0.72963869, 0.01491906,\n",
       "       0.29337232, 0.03684451, 0.84865901, 0.0700406 , 0.02462825,\n",
       "       0.16944607, 0.13480454, 0.76830429, 0.91515572, 0.48372204,\n",
       "       0.4025768 , 0.9125374 , 0.35604595, 0.08684653, 0.94521149,\n",
       "       0.34889897, 0.51194824, 0.91691685, 0.11725089, 0.32023361,\n",
       "       0.51429349, 0.06959061, 0.10691977, 0.83407057, 0.35406301,\n",
       "       0.98944194, 0.32417078, 0.19415439, 0.75958823, 0.95443559,\n",
       "       0.96518729, 0.64556637, 0.19663952, 0.80281824, 0.92855999,\n",
       "       0.41935851, 0.79996334, 0.46873578, 0.01032505, 0.64331144,\n",
       "       0.31552015, 0.15790592, 0.46576606, 0.91445717, 0.01700614,\n",
       "       0.94295837, 0.66388377, 0.35358019, 0.57729105, 0.29270767,\n",
       "       0.00228109, 0.53383361, 0.55918398, 0.44168085, 0.20409884,\n",
       "       0.17217706, 0.83532075, 0.20113954, 0.67991005, 0.17956803,\n",
       "       0.35399296, 0.06291288, 0.02424176, 0.66506023, 0.23688246,\n",
       "       0.95759071, 0.53115061, 0.93946887, 0.84321619, 0.71984931,\n",
       "       0.86218934, 0.12244306, 0.90752432, 0.4544863 , 0.92623033])"
      ]
     },
     "execution_count": 57,
     "metadata": {},
     "output_type": "execute_result"
    }
   ],
   "source": [
    "array = np.random.random(100000)   # generates an array of 100000 values in it (randomly)\n",
    "array[:100] # returns the 1st 100\n",
    "# array"
   ]
  },
  {
   "cell_type": "code",
   "execution_count": 75,
   "metadata": {},
   "outputs": [
    {
     "data": {
      "text/plain": [
       "True"
      ]
     },
     "execution_count": 75,
     "metadata": {},
     "output_type": "execute_result"
    }
   ],
   "source": [
    "# std = var**1/2\n",
    "np.std(arr) == np.var(arr)**(1/2)"
   ]
  },
  {
   "cell_type": "code",
   "execution_count": 76,
   "metadata": {},
   "outputs": [],
   "source": [
    "high_var_array = np.array([1,100,100000,500000])\n",
    "low_var_array = np.array([2,4,6,8])"
   ]
  },
  {
   "cell_type": "code",
   "execution_count": 77,
   "metadata": {},
   "outputs": [
    {
     "data": {
      "text/plain": [
       "42492426862.6875"
      ]
     },
     "execution_count": 77,
     "metadata": {},
     "output_type": "execute_result"
    }
   ],
   "source": [
    "np.var(high_var_array)"
   ]
  },
  {
   "cell_type": "code",
   "execution_count": 78,
   "metadata": {},
   "outputs": [
    {
     "data": {
      "text/plain": [
       "5.0"
      ]
     },
     "execution_count": 78,
     "metadata": {},
     "output_type": "execute_result"
    }
   ],
   "source": [
    "np.var(low_var_array)"
   ]
  },
  {
   "cell_type": "markdown",
   "metadata": {},
   "source": [
    " # reshaping and transposing "
   ]
  },
  {
   "cell_type": "code",
   "execution_count": 79,
   "metadata": {},
   "outputs": [],
   "source": [
    "#sample_ra = np.array((1,2,3,4,5),(13,23,34,45,23))"
   ]
  },
  {
   "cell_type": "code",
   "execution_count": 80,
   "metadata": {},
   "outputs": [
    {
     "data": {
      "text/plain": [
       "array([[[1, 4],\n",
       "        [9, 3],\n",
       "        [2, 1]],\n",
       "\n",
       "       [[3, 1],\n",
       "        [8, 3],\n",
       "        [6, 2]],\n",
       "\n",
       "       [[5, 1],\n",
       "        [6, 8],\n",
       "        [6, 5]],\n",
       "\n",
       "       [[6, 1],\n",
       "        [2, 1],\n",
       "        [8, 2]],\n",
       "\n",
       "       [[9, 1],\n",
       "        [2, 6],\n",
       "        [5, 3]]])"
      ]
     },
     "execution_count": 80,
     "metadata": {},
     "output_type": "execute_result"
    }
   ],
   "source": [
    "# transpose  switches the axes of the elements in an array \n",
    "a4.T\n",
    "# this is done to do dot products in general ."
   ]
  },
  {
   "cell_type": "code",
   "execution_count": 81,
   "metadata": {},
   "outputs": [
    {
     "data": {
      "text/plain": [
       "array([[[1, 3, 5, 6, 9],\n",
       "        [9, 8, 6, 2, 2],\n",
       "        [2, 6, 6, 8, 5]],\n",
       "\n",
       "       [[4, 1, 1, 1, 1],\n",
       "        [3, 3, 8, 1, 6],\n",
       "        [1, 2, 5, 2, 3]]])"
      ]
     },
     "execution_count": 81,
     "metadata": {},
     "output_type": "execute_result"
    }
   ],
   "source": [
    "a4"
   ]
  },
  {
   "cell_type": "markdown",
   "metadata": {},
   "source": [
    "# dot product and element wise "
   ]
  },
  {
   "cell_type": "code",
   "execution_count": 82,
   "metadata": {},
   "outputs": [
    {
     "data": {
      "text/plain": [
       "(array([[11,  4,  9],\n",
       "        [ 1, 11, 12],\n",
       "        [10, 11,  7],\n",
       "        [ 1, 13,  8],\n",
       "        [15, 18,  3]]),\n",
       " array([[ 3, 29,  2],\n",
       "        [20, 27,  6],\n",
       "        [ 9, 15,  2],\n",
       "        [11, 25, 28],\n",
       "        [ 8, 25, 12]]))"
      ]
     },
     "execution_count": 82,
     "metadata": {},
     "output_type": "execute_result"
    }
   ],
   "source": [
    "# syntax is np.dot(ar1 , ar2 )\n",
    "# matrix multipliction\n",
    "np.random.seed(3)\n",
    "matrix1 = np.random.randint(1,20,(5,3))\n",
    "matrix2 =np.random.randint(1,30,(5,3))\n",
    "matrix1 , matrix2"
   ]
  },
  {
   "cell_type": "markdown",
   "metadata": {},
   "source": [
    "to do matrix multiplication or dot product , the matrices have to be in an opposite to each other's shape . eg : ma1.shape = (3,5), ma.shape = (5,3)"
   ]
  },
  {
   "cell_type": "code",
   "execution_count": 83,
   "metadata": {},
   "outputs": [],
   "source": [
    "# transpose the matrix 1 so that we could do the dot product of them\n",
    "dot_matrix = np.dot(matrix1,matrix2.T)"
   ]
  },
  {
   "cell_type": "code",
   "execution_count": 84,
   "metadata": {},
   "outputs": [
    {
     "data": {
      "text/plain": [
       "(array([[-0.47555019, -0.95636712,  0.87758979,  0.98194647,  0.63676125],\n",
       "        [ 0.41214595, -0.52905711, -0.07957859, -0.03533805, -0.25379421],\n",
       "        [-0.98935386, -0.9765779 , -0.92344688,  0.19341424, -0.73316982],\n",
       "        [ 0.15865243, -0.92003785,  0.08839871,  0.71491859,  0.98514108],\n",
       "        [ 0.9425346 , -0.24519354,  0.52152528,  0.99999047,  0.32156532]]),\n",
       " array([[ 3, 20,  9, 11,  8],\n",
       "        [29, 27, 15, 25, 25],\n",
       "        [ 2,  6,  2, 28, 12]]))"
      ]
     },
     "execution_count": 84,
     "metadata": {},
     "output_type": "execute_result"
    }
   ],
   "source": [
    "np.sin(dot_matrix) , matrix2.T"
   ]
  },
  {
   "cell_type": "markdown",
   "metadata": {},
   "source": [
    "# PRACTICAL APPLICATION "
   ]
  },
  {
   "cell_type": "markdown",
   "metadata": {},
   "source": [
    "# dot product exercise "
   ]
  },
  {
   "cell_type": "code",
   "execution_count": 85,
   "metadata": {},
   "outputs": [],
   "source": [
    "import pandas as pd "
   ]
  },
  {
   "cell_type": "code",
   "execution_count": 86,
   "metadata": {},
   "outputs": [
    {
     "data": {
      "text/plain": [
       "array([[ 6, 12, 13,  9],\n",
       "       [10, 12,  6, 16],\n",
       "       [ 1, 17,  2, 13],\n",
       "       [ 8, 14, 29,  7],\n",
       "       [26, 19, 21,  6]])"
      ]
     },
     "execution_count": 86,
     "metadata": {},
     "output_type": "execute_result"
    }
   ],
   "source": [
    "np.random.seed(1)\n",
    "sales_amt = np.random.randint(1,30,(5,4))\n",
    "sales_amt"
   ]
  },
  {
   "cell_type": "code",
   "execution_count": 87,
   "metadata": {},
   "outputs": [
    {
     "data": {
      "text/plain": [
       "array([[15],\n",
       "       [18],\n",
       "       [ 3],\n",
       "       [ 6]])"
      ]
     },
     "execution_count": 87,
     "metadata": {},
     "output_type": "execute_result"
    }
   ],
   "source": [
    "np.random.seed(0)\n",
    "prices = np.random.randint(3,20,(4,1))\n",
    "prices"
   ]
  },
  {
   "cell_type": "code",
   "execution_count": 88,
   "metadata": {},
   "outputs": [
    {
     "data": {
      "text/html": [
       "<div>\n",
       "<style scoped>\n",
       "    .dataframe tbody tr th:only-of-type {\n",
       "        vertical-align: middle;\n",
       "    }\n",
       "\n",
       "    .dataframe tbody tr th {\n",
       "        vertical-align: top;\n",
       "    }\n",
       "\n",
       "    .dataframe thead th {\n",
       "        text-align: right;\n",
       "    }\n",
       "</style>\n",
       "<table border=\"1\" class=\"dataframe\">\n",
       "  <thead>\n",
       "    <tr style=\"text-align: right;\">\n",
       "      <th></th>\n",
       "      <th>almond</th>\n",
       "      <th>cashew</th>\n",
       "      <th>peanut</th>\n",
       "      <th>olive</th>\n",
       "    </tr>\n",
       "  </thead>\n",
       "  <tbody>\n",
       "    <tr>\n",
       "      <th>mon</th>\n",
       "      <td>6</td>\n",
       "      <td>12</td>\n",
       "      <td>13</td>\n",
       "      <td>9</td>\n",
       "    </tr>\n",
       "    <tr>\n",
       "      <th>tue</th>\n",
       "      <td>10</td>\n",
       "      <td>12</td>\n",
       "      <td>6</td>\n",
       "      <td>16</td>\n",
       "    </tr>\n",
       "    <tr>\n",
       "      <th>wed</th>\n",
       "      <td>1</td>\n",
       "      <td>17</td>\n",
       "      <td>2</td>\n",
       "      <td>13</td>\n",
       "    </tr>\n",
       "    <tr>\n",
       "      <th>thur</th>\n",
       "      <td>8</td>\n",
       "      <td>14</td>\n",
       "      <td>29</td>\n",
       "      <td>7</td>\n",
       "    </tr>\n",
       "    <tr>\n",
       "      <th>fri</th>\n",
       "      <td>26</td>\n",
       "      <td>19</td>\n",
       "      <td>21</td>\n",
       "      <td>6</td>\n",
       "    </tr>\n",
       "  </tbody>\n",
       "</table>\n",
       "</div>"
      ],
      "text/plain": [
       "      almond  cashew  peanut  olive\n",
       "mon        6      12      13      9\n",
       "tue       10      12       6     16\n",
       "wed        1      17       2     13\n",
       "thur       8      14      29      7\n",
       "fri       26      19      21      6"
      ]
     },
     "execution_count": 88,
     "metadata": {},
     "output_type": "execute_result"
    }
   ],
   "source": [
    "details = pd.DataFrame(sales_amt,\n",
    "                      index = ['mon','tue','wed','thur','fri'],\n",
    "                      columns = ['almond','cashew','peanut','olive'])\n",
    "details"
   ]
  },
  {
   "cell_type": "code",
   "execution_count": 89,
   "metadata": {},
   "outputs": [
    {
     "data": {
      "text/html": [
       "<div>\n",
       "<style scoped>\n",
       "    .dataframe tbody tr th:only-of-type {\n",
       "        vertical-align: middle;\n",
       "    }\n",
       "\n",
       "    .dataframe tbody tr th {\n",
       "        vertical-align: top;\n",
       "    }\n",
       "\n",
       "    .dataframe thead th {\n",
       "        text-align: right;\n",
       "    }\n",
       "</style>\n",
       "<table border=\"1\" class=\"dataframe\">\n",
       "  <thead>\n",
       "    <tr style=\"text-align: right;\">\n",
       "      <th></th>\n",
       "      <th>price ($)</th>\n",
       "    </tr>\n",
       "  </thead>\n",
       "  <tbody>\n",
       "    <tr>\n",
       "      <th>almond</th>\n",
       "      <td>15</td>\n",
       "    </tr>\n",
       "    <tr>\n",
       "      <th>cashew</th>\n",
       "      <td>18</td>\n",
       "    </tr>\n",
       "    <tr>\n",
       "      <th>peanut</th>\n",
       "      <td>3</td>\n",
       "    </tr>\n",
       "    <tr>\n",
       "      <th>olive</th>\n",
       "      <td>6</td>\n",
       "    </tr>\n",
       "  </tbody>\n",
       "</table>\n",
       "</div>"
      ],
      "text/plain": [
       "        price ($)\n",
       "almond         15\n",
       "cashew         18\n",
       "peanut          3\n",
       "olive           6"
      ]
     },
     "execution_count": 89,
     "metadata": {},
     "output_type": "execute_result"
    }
   ],
   "source": [
    "price = pd.DataFrame(prices,\n",
    "                    index = ['almond','cashew','peanut','olive'],\n",
    "                    columns = ['price ($)'])\n",
    "price"
   ]
  },
  {
   "cell_type": "code",
   "execution_count": 90,
   "metadata": {},
   "outputs": [
    {
     "data": {
      "text/plain": [
       "array([[399, 480, 405, 501, 831]])"
      ]
     },
     "execution_count": 90,
     "metadata": {},
     "output_type": "execute_result"
    }
   ],
   "source": [
    "# now go for the dot product of the price with sales_amt \n",
    "result = np.dot(price.T,details.T)\n",
    "result"
   ]
  },
  {
   "cell_type": "code",
   "execution_count": 91,
   "metadata": {},
   "outputs": [
    {
     "data": {
      "text/html": [
       "<div>\n",
       "<style scoped>\n",
       "    .dataframe tbody tr th:only-of-type {\n",
       "        vertical-align: middle;\n",
       "    }\n",
       "\n",
       "    .dataframe tbody tr th {\n",
       "        vertical-align: top;\n",
       "    }\n",
       "\n",
       "    .dataframe thead th {\n",
       "        text-align: right;\n",
       "    }\n",
       "</style>\n",
       "<table border=\"1\" class=\"dataframe\">\n",
       "  <thead>\n",
       "    <tr style=\"text-align: right;\">\n",
       "      <th></th>\n",
       "      <th>almond</th>\n",
       "      <th>cashew</th>\n",
       "      <th>peanut</th>\n",
       "      <th>olive</th>\n",
       "      <th>revenue ($)</th>\n",
       "    </tr>\n",
       "  </thead>\n",
       "  <tbody>\n",
       "    <tr>\n",
       "      <th>mon</th>\n",
       "      <td>6</td>\n",
       "      <td>12</td>\n",
       "      <td>13</td>\n",
       "      <td>9</td>\n",
       "      <td>399</td>\n",
       "    </tr>\n",
       "    <tr>\n",
       "      <th>tue</th>\n",
       "      <td>10</td>\n",
       "      <td>12</td>\n",
       "      <td>6</td>\n",
       "      <td>16</td>\n",
       "      <td>480</td>\n",
       "    </tr>\n",
       "    <tr>\n",
       "      <th>wed</th>\n",
       "      <td>1</td>\n",
       "      <td>17</td>\n",
       "      <td>2</td>\n",
       "      <td>13</td>\n",
       "      <td>405</td>\n",
       "    </tr>\n",
       "    <tr>\n",
       "      <th>thur</th>\n",
       "      <td>8</td>\n",
       "      <td>14</td>\n",
       "      <td>29</td>\n",
       "      <td>7</td>\n",
       "      <td>501</td>\n",
       "    </tr>\n",
       "    <tr>\n",
       "      <th>fri</th>\n",
       "      <td>26</td>\n",
       "      <td>19</td>\n",
       "      <td>21</td>\n",
       "      <td>6</td>\n",
       "      <td>831</td>\n",
       "    </tr>\n",
       "  </tbody>\n",
       "</table>\n",
       "</div>"
      ],
      "text/plain": [
       "      almond  cashew  peanut  olive  revenue ($)\n",
       "mon        6      12      13      9          399\n",
       "tue       10      12       6     16          480\n",
       "wed        1      17       2     13          405\n",
       "thur       8      14      29      7          501\n",
       "fri       26      19      21      6          831"
      ]
     },
     "execution_count": 91,
     "metadata": {},
     "output_type": "execute_result"
    }
   ],
   "source": [
    "details['revenue ($)'] = result.reshape(5,1)\n",
    "details"
   ]
  },
  {
   "cell_type": "code",
   "execution_count": 92,
   "metadata": {},
   "outputs": [
    {
     "data": {
      "text/plain": [
       "array([[399],\n",
       "       [480],\n",
       "       [405],\n",
       "       [501],\n",
       "       [831]])"
      ]
     },
     "execution_count": 92,
     "metadata": {},
     "output_type": "execute_result"
    }
   ],
   "source": [
    "result.reshape(5,1)"
   ]
  },
  {
   "cell_type": "code",
   "execution_count": 93,
   "metadata": {},
   "outputs": [
    {
     "name": "stdout",
     "output_type": "stream",
     "text": [
      "alhamdulillah \n"
     ]
    }
   ],
   "source": [
    "print('alhamdulillah ')"
   ]
  },
  {
   "cell_type": "markdown",
   "metadata": {},
   "source": [
    "# comparison operators "
   ]
  },
  {
   "cell_type": "code",
   "execution_count": 97,
   "metadata": {},
   "outputs": [
    {
     "data": {
      "text/plain": [
       "(array([2, 5, 4]), array([1, 2, 3, 4, 5]))"
      ]
     },
     "execution_count": 97,
     "metadata": {},
     "output_type": "execute_result"
    }
   ],
   "source": [
    "ar, ar1"
   ]
  },
  {
   "cell_type": "code",
   "execution_count": 110,
   "metadata": {},
   "outputs": [
    {
     "data": {
      "text/plain": [
       "array([[False, False, False],\n",
       "       [False, False, False]])"
      ]
     },
     "execution_count": 110,
     "metadata": {},
     "output_type": "execute_result"
    }
   ],
   "source": [
    "a1 >a2"
   ]
  },
  {
   "cell_type": "code",
   "execution_count": 111,
   "metadata": {},
   "outputs": [
    {
     "data": {
      "text/plain": [
       "array([[ True,  True,  True],\n",
       "       [ True,  True,  True]])"
      ]
     },
     "execution_count": 111,
     "metadata": {},
     "output_type": "execute_result"
    }
   ],
   "source": [
    "a2 >a1"
   ]
  },
  {
   "cell_type": "code",
   "execution_count": 112,
   "metadata": {},
   "outputs": [
    {
     "data": {
      "text/plain": [
       "(array([2, 5, 4]),\n",
       " array([[ 6, 12, 13],\n",
       "        [ 9, 10, 12]]))"
      ]
     },
     "execution_count": 112,
     "metadata": {},
     "output_type": "execute_result"
    }
   ],
   "source": [
    "a1 = ar \n",
    "np.random.seed(1)\n",
    "a2 = np.random.randint(1,20,(2,3))\n",
    "a1,a2"
   ]
  },
  {
   "cell_type": "code",
   "execution_count": 115,
   "metadata": {},
   "outputs": [
    {
     "data": {
      "text/plain": [
       "array([[ 6, 12, 13],\n",
       "       [ 1, 10, 12]])"
      ]
     },
     "execution_count": 115,
     "metadata": {},
     "output_type": "execute_result"
    }
   ],
   "source": [
    "a2[1,0] = 1\n",
    "a2"
   ]
  },
  {
   "cell_type": "markdown",
   "metadata": {},
   "source": [
    "# sorting arrays "
   ]
  },
  {
   "cell_type": "code",
   "execution_count": 117,
   "metadata": {},
   "outputs": [
    {
     "data": {
      "text/plain": [
       "array([[134,  80, 193, 145],\n",
       "       [130,  72, 135,  26],\n",
       "       [179,  21, 102, 147]])"
      ]
     },
     "execution_count": 117,
     "metadata": {},
     "output_type": "execute_result"
    }
   ],
   "source": [
    "random_ra = np.random.randint(1,200,(3,4))\n",
    "random_ra "
   ]
  },
  {
   "cell_type": "code",
   "execution_count": 122,
   "metadata": {},
   "outputs": [],
   "source": [
    "random_ra  = np.random.randint(1,55,(4,3))"
   ]
  },
  {
   "cell_type": "code",
   "execution_count": 123,
   "metadata": {},
   "outputs": [
    {
     "data": {
      "text/plain": [
       "array([[21, 12, 43],\n",
       "       [29, 30, 15],\n",
       "       [51,  5, 24],\n",
       "       [24, 42, 50]])"
      ]
     },
     "execution_count": 123,
     "metadata": {},
     "output_type": "execute_result"
    }
   ],
   "source": [
    "# to view the indeces with the highest value and the sort value,use argsort()\n",
    "random_ra"
   ]
  },
  {
   "cell_type": "code",
   "execution_count": 124,
   "metadata": {},
   "outputs": [
    {
     "data": {
      "text/plain": [
       "array([[12, 21, 43],\n",
       "       [15, 29, 30],\n",
       "       [ 5, 24, 51],\n",
       "       [24, 42, 50]])"
      ]
     },
     "execution_count": 124,
     "metadata": {},
     "output_type": "execute_result"
    }
   ],
   "source": [
    "np.sort(random_ra)"
   ]
  },
  {
   "cell_type": "code",
   "execution_count": 125,
   "metadata": {},
   "outputs": [
    {
     "data": {
      "text/plain": [
       "array([[1, 0, 2],\n",
       "       [2, 0, 1],\n",
       "       [1, 2, 0],\n",
       "       [0, 1, 2]], dtype=int64)"
      ]
     },
     "execution_count": 125,
     "metadata": {},
     "output_type": "execute_result"
    }
   ],
   "source": [
    "# returns the indeces with the highest value incrementally\n",
    "np.argsort(random_ra)"
   ]
  },
  {
   "cell_type": "code",
   "execution_count": 127,
   "metadata": {},
   "outputs": [
    {
     "data": {
      "text/plain": [
       "array([0, 2, 1], dtype=int64)"
      ]
     },
     "execution_count": 127,
     "metadata": {},
     "output_type": "execute_result"
    }
   ],
   "source": [
    "np.argmin(random_ra,axis=0)     # axis =0 means rows "
   ]
  },
  {
   "cell_type": "code",
   "execution_count": 128,
   "metadata": {},
   "outputs": [
    {
     "data": {
      "text/plain": [
       "array([2, 3, 3], dtype=int64)"
      ]
     },
     "execution_count": 128,
     "metadata": {},
     "output_type": "execute_result"
    }
   ],
   "source": [
    "np.argmax(random_ra,axis= 0)"
   ]
  },
  {
   "cell_type": "markdown",
   "metadata": {},
   "source": [
    "# practical example numpy in action"
   ]
  },
  {
   "cell_type": "code",
   "execution_count": 130,
   "metadata": {},
   "outputs": [
    {
     "data": {
      "text/plain": [
       "array([[[0.05490196, 0.10588235, 0.06666667],\n",
       "        [0.05490196, 0.10588235, 0.06666667],\n",
       "        [0.05490196, 0.10588235, 0.06666667],\n",
       "        ...,\n",
       "        [0.16470589, 0.12941177, 0.09411765],\n",
       "        [0.16470589, 0.12941177, 0.09411765],\n",
       "        [0.16470589, 0.12941177, 0.09411765]],\n",
       "\n",
       "       [[0.05490196, 0.10588235, 0.06666667],\n",
       "        [0.05490196, 0.10588235, 0.06666667],\n",
       "        [0.05490196, 0.10588235, 0.06666667],\n",
       "        ...,\n",
       "        [0.16470589, 0.12941177, 0.09411765],\n",
       "        [0.16470589, 0.12941177, 0.09411765],\n",
       "        [0.16470589, 0.12941177, 0.09411765]],\n",
       "\n",
       "       [[0.05490196, 0.10588235, 0.06666667],\n",
       "        [0.05490196, 0.10588235, 0.06666667],\n",
       "        [0.05490196, 0.10588235, 0.06666667],\n",
       "        ...,\n",
       "        [0.16470589, 0.12941177, 0.09411765],\n",
       "        [0.16470589, 0.12941177, 0.09411765],\n",
       "        [0.16470589, 0.12941177, 0.09411765]],\n",
       "\n",
       "       ...,\n",
       "\n",
       "       [[0.13333334, 0.07450981, 0.05490196],\n",
       "        [0.12156863, 0.0627451 , 0.04313726],\n",
       "        [0.10980392, 0.05098039, 0.03137255],\n",
       "        ...,\n",
       "        [0.02745098, 0.02745098, 0.03529412],\n",
       "        [0.02745098, 0.02745098, 0.03529412],\n",
       "        [0.02745098, 0.02745098, 0.03529412]],\n",
       "\n",
       "       [[0.13333334, 0.07450981, 0.05490196],\n",
       "        [0.12156863, 0.0627451 , 0.04313726],\n",
       "        [0.12156863, 0.0627451 , 0.04313726],\n",
       "        ...,\n",
       "        [0.02352941, 0.02352941, 0.03137255],\n",
       "        [0.02352941, 0.02352941, 0.03137255],\n",
       "        [0.02352941, 0.02352941, 0.03137255]],\n",
       "\n",
       "       [[0.13333334, 0.07450981, 0.05490196],\n",
       "        [0.12156863, 0.0627451 , 0.04313726],\n",
       "        [0.12156863, 0.0627451 , 0.04313726],\n",
       "        ...,\n",
       "        [0.02352941, 0.02352941, 0.03137255],\n",
       "        [0.02352941, 0.02352941, 0.03137255],\n",
       "        [0.02352941, 0.02352941, 0.03137255]]], dtype=float32)"
      ]
     },
     "execution_count": 130,
     "metadata": {},
     "output_type": "execute_result"
    }
   ],
   "source": [
    "# importing images are done in ndarray format \n",
    "from matplotlib.image import imread \n",
    "panda_img = imread('panda.png')\n",
    "panda_img"
   ]
  },
  {
   "cell_type": "code",
   "execution_count": 135,
   "metadata": {},
   "outputs": [
    {
     "data": {
      "text/plain": [
       "array([[0.05490196, 0.10588235, 0.06666667],\n",
       "       [0.05490196, 0.10588235, 0.06666667],\n",
       "       [0.05490196, 0.10588235, 0.06666667],\n",
       "       ...,\n",
       "       [0.17254902, 0.13725491, 0.10196079],\n",
       "       [0.17254902, 0.13725491, 0.10196079],\n",
       "       [0.17254902, 0.13725491, 0.10196079]], dtype=float32)"
      ]
     },
     "execution_count": 135,
     "metadata": {},
     "output_type": "execute_result"
    }
   ],
   "source": [
    "panda_img[5]"
   ]
  },
  {
   "cell_type": "code",
   "execution_count": 139,
   "metadata": {},
   "outputs": [
    {
     "data": {
      "text/plain": [
       "array([[0.01568628, 0.02352941, 0.01960784],\n",
       "       [0.01176471, 0.01960784, 0.01568628],\n",
       "       [0.00784314, 0.00784314, 0.        ],\n",
       "       ...,\n",
       "       [0.01568628, 0.01960784, 0.02745098],\n",
       "       [0.01568628, 0.01960784, 0.02745098],\n",
       "       [0.01568628, 0.01960784, 0.02745098]], dtype=float32)"
      ]
     },
     "execution_count": 139,
     "metadata": {},
     "output_type": "execute_result"
    }
   ],
   "source": [
    "np.min(panda_img,axis=0)"
   ]
  }
 ],
 "metadata": {
  "kernelspec": {
   "display_name": "Python 3",
   "language": "python",
   "name": "python3"
  },
  "language_info": {
   "codemirror_mode": {
    "name": "ipython",
    "version": 3
   },
   "file_extension": ".py",
   "mimetype": "text/x-python",
   "name": "python",
   "nbconvert_exporter": "python",
   "pygments_lexer": "ipython3",
   "version": "3.8.2"
  }
 },
 "nbformat": 4,
 "nbformat_minor": 4
}
