{
 "cells": [
  {
   "cell_type": "markdown",
   "metadata": {},
   "source": [
    "# Tensorflow\n",
    "\n",
    "Tensorflow is an open-source and free library used in the field of machine learning(ML).\n",
    "It is developed and backed up by Google.\n",
    " \n",
    "#  \n",
    "\n",
    "### What's required from your part ???\n",
    "> Basic knowledge of python and its syntax\n",
    "\n",
    "> Basic knowledge in operating `ipynb` or i-python-notebooks\n",
    "\n",
    "> Basic knowledge on matrices and vectors \n",
    "\n",
    "This is just a basic tutorial for beginners who are new to tensorflow. This tutorial is developed using python...With that said, let's get started\n",
    "\n",
    "#  "
   ]
  },
  {
   "cell_type": "markdown",
   "metadata": {},
   "source": [
    "## Importing the library"
   ]
  },
  {
   "cell_type": "code",
   "execution_count": 1,
   "metadata": {},
   "outputs": [],
   "source": [
    "# we are importing tensorflow to this workspace and abbreviating it to tf for ease of use in our code.\n",
    "import tensorflow as tf"
   ]
  },
  {
   "cell_type": "markdown",
   "metadata": {},
   "source": [
    "#   \n",
    "\n",
    "## Some basic things to understand before getting in\n",
    "\n",
    "### Tensors:\n",
    "A tensor is a generalization of a matrix or a vector to a higher dimension.\n",
    "\n",
    "### Rank or Degree:\n",
    "Rank or Degree of a tensor is the number of dimension of it. It could be used to know if the input data is a vector, matrix and so on.\n",
    "For instance, if you're to find the rank of a matrix, then you'd get a 2 but if you're to look the rank of a vector, its going to be 1 and 0 for a scalar.\n",
    "\n",
    "### Shape:\n",
    "Shape of a tensor is the dimension of a tensor itself. If its a vector or n rows, then the shape is going to be (n,).\n",
    "If its a matrix of n rows and m columns, then the output(shape) is going to be (n,m)\n",
    "\n",
    "#  "
   ]
  },
  {
   "cell_type": "code",
   "execution_count": 2,
   "metadata": {},
   "outputs": [
    {
     "name": "stdout",
     "output_type": "stream",
     "text": [
      "<module 'tensorflow._api.v2.version' from 'C:\\\\Users\\\\hp\\\\Desktop\\\\ml\\\\env\\\\lib\\\\site-packages\\\\tensorflow\\\\_api\\\\v2\\\\version\\\\__init__.py'>\n"
     ]
    }
   ],
   "source": [
    "# the following are some basic functions you might want to use\n",
    "\n",
    "# to get the version of tensorflow you're currently using\n",
    "print(tf.version)"
   ]
  },
  {
   "cell_type": "code",
   "execution_count": 2,
   "metadata": {},
   "outputs": [],
   "source": [
    "# to create a simple tensor\n",
    "string_tensor = tf.Variable('this is the string tensor',tf.string)\n",
    "integer_tensor = tf.Variable(1234234345345,tf.int16)\n",
    "floating_tensor = tf.Variable(12.234,tf.float32)\n",
    "array_or_vector_of_strings = tf.Variable(['so','this','is','a','vector','of','strings'],tf.string)\n",
    "matrix_of_string = tf.Variable([['hi','hello'],['greetings','my friend']],tf.string)"
   ]
  },
  {
   "cell_type": "code",
   "execution_count": 3,
   "metadata": {},
   "outputs": [
    {
     "name": "stdout",
     "output_type": "stream",
     "text": [
      "this is the preview or view of the matrix \n",
      "\n",
      "<tf.Variable 'Variable:0' shape=(2, 2) dtype=string, numpy=\n",
      "array([[b'hi', b'hello'],\n",
      "       [b'greetings', b'my friend']], dtype=object)>\n"
     ]
    }
   ],
   "source": [
    "print('this is the preview or view of the matrix ')\n",
    "print()\n",
    "print(matrix_of_string)"
   ]
  },
  {
   "cell_type": "code",
   "execution_count": 4,
   "metadata": {},
   "outputs": [
    {
     "name": "stdout",
     "output_type": "stream",
     "text": [
      "<tf.Variable 'Variable:0' shape=(2, 3) dtype=int32, numpy=\n",
      "array([[1, 2, 3],\n",
      "       [4, 5, 6]])>\n"
     ]
    }
   ],
   "source": [
    "print(tf.Variable([[1,2,3],[4,5,6]])) # this is another sample example of how it is"
   ]
  },
  {
   "cell_type": "code",
   "execution_count": 5,
   "metadata": {},
   "outputs": [
    {
     "name": "stdout",
     "output_type": "stream",
     "text": [
      "()\n",
      "(7,)\n",
      "(2, 2)\n"
     ]
    }
   ],
   "source": [
    "\n",
    "# getting the shape of a tensor\n",
    "\n",
    "print(string_tensor.shape)    # returns the shape of the above scalar called `string_tensor` which is actually 0\n",
    "print(array_or_vector_of_strings.shape)  # returns the shape of the above vector which is (7,)\n",
    "print(matrix_of_string.shape)    # returns the shape of the above matrix which is (2,2)"
   ]
  },
  {
   "cell_type": "markdown",
   "metadata": {},
   "source": [
    "#  \n",
    "### Creating and Reshaping \n",
    "The total number of elements in a tensor/matrix/vector is going to be the product of the values of its shape\n",
    "You can reshape a tensor from its original dimension to a new one using\n",
    "### `tf.reshape( initialTensor , dimensionToReshapeTo )` \n",
    "\n",
    "If you're to reshape an existing tensor to another with a different shape, you can also use \n",
    "### `tf.reshape( initTensor , [ n , -1 ] )` \n",
    "where `n` is any of the values in the dimension of the `initTensor` and `-1` is used to let Tensorflow know that the upcoming part of the shape of the tensor is going to be the product of the remaining values of the shape of the initTensor other than the one passed at `n`. On doing this, the other values will be multipied and the shape will be different.\n",
    "\n",
    "For instance; if the shape of a tensor1 is (2,44,9) and if we are to reshape it like tf.reshape(tensor1 , [44,-1]) , \n",
    "the resultant tensor would be of the shape (44, 2 x 9 ) which is ( 44 , 18 ).\n",
    "#   "
   ]
  },
  {
   "cell_type": "code",
   "execution_count": 6,
   "metadata": {},
   "outputs": [
    {
     "name": "stdout",
     "output_type": "stream",
     "text": [
      "tf.Tensor(\n",
      "[[[1. 1. 1. 1. 1. 1.]\n",
      "  [1. 1. 1. 1. 1. 1.]\n",
      "  [1. 1. 1. 1. 1. 1.]\n",
      "  [1. 1. 1. 1. 1. 1.]]\n",
      "\n",
      " [[1. 1. 1. 1. 1. 1.]\n",
      "  [1. 1. 1. 1. 1. 1.]\n",
      "  [1. 1. 1. 1. 1. 1.]\n",
      "  [1. 1. 1. 1. 1. 1.]]], shape=(2, 4, 6), dtype=float32)\n"
     ]
    }
   ],
   "source": [
    "# create a tensor full of ones of the shape (2,4,6) \n",
    "# this means that we are creating a tensor with just `1` in it and with 4 rows and 6 columns and there are going to be 2 of them\n",
    "\n",
    "tensor_of_just_ones = tf.ones([2,4,6])\n",
    "print(tensor_of_just_ones)"
   ]
  },
  {
   "cell_type": "code",
   "execution_count": 7,
   "metadata": {},
   "outputs": [
    {
     "name": "stdout",
     "output_type": "stream",
     "text": [
      "tf.Tensor(\n",
      "[[[1. 1. 1. 1. 1. 1.]\n",
      "  [1. 1. 1. 1. 1. 1.]]\n",
      "\n",
      " [[1. 1. 1. 1. 1. 1.]\n",
      "  [1. 1. 1. 1. 1. 1.]]\n",
      "\n",
      " [[1. 1. 1. 1. 1. 1.]\n",
      "  [1. 1. 1. 1. 1. 1.]]\n",
      "\n",
      " [[1. 1. 1. 1. 1. 1.]\n",
      "  [1. 1. 1. 1. 1. 1.]]], shape=(4, 2, 6), dtype=float32)\n"
     ]
    }
   ],
   "source": [
    "\n",
    "# we are now going to reshape the tensor of just ones from [2,4,6] to [4,2,6]\n",
    "\n",
    "print(tf.reshape(tensor_of_just_ones,[4,2,6]))"
   ]
  },
  {
   "cell_type": "code",
   "execution_count": 8,
   "metadata": {},
   "outputs": [
    {
     "data": {
      "text/plain": [
       "<tf.Tensor: shape=(6, 8), dtype=float32, numpy=\n",
       "array([[1., 1., 1., 1., 1., 1., 1., 1.],\n",
       "       [1., 1., 1., 1., 1., 1., 1., 1.],\n",
       "       [1., 1., 1., 1., 1., 1., 1., 1.],\n",
       "       [1., 1., 1., 1., 1., 1., 1., 1.],\n",
       "       [1., 1., 1., 1., 1., 1., 1., 1.],\n",
       "       [1., 1., 1., 1., 1., 1., 1., 1.]], dtype=float32)>"
      ]
     },
     "execution_count": 8,
     "metadata": {},
     "output_type": "execute_result"
    }
   ],
   "source": [
    "\n",
    "# when we put a negative sign in a `reshape-to`dimension, with an initial number, then tf will multiply the rest of the \n",
    "# values in its dimensions other than the one that you've already passed in as the first or the initial value for the new tensor\n",
    "\n",
    "tf.reshape(tensor_of_just_ones,[6,-1])  # this returns a tensor which has 6 rows and 2*4 columns "
   ]
  },
  {
   "cell_type": "code",
   "execution_count": 10,
   "metadata": {
    "scrolled": true
   },
   "outputs": [
    {
     "data": {
      "text/plain": [
       "<tf.Tensor: shape=(5, 2, 8), dtype=float32, numpy=\n",
       "array([[[0., 0., 0., 0., 0., 0., 0., 0.],\n",
       "        [0., 0., 0., 0., 0., 0., 0., 0.]],\n",
       "\n",
       "       [[0., 0., 0., 0., 0., 0., 0., 0.],\n",
       "        [0., 0., 0., 0., 0., 0., 0., 0.]],\n",
       "\n",
       "       [[0., 0., 0., 0., 0., 0., 0., 0.],\n",
       "        [0., 0., 0., 0., 0., 0., 0., 0.]],\n",
       "\n",
       "       [[0., 0., 0., 0., 0., 0., 0., 0.],\n",
       "        [0., 0., 0., 0., 0., 0., 0., 0.]],\n",
       "\n",
       "       [[0., 0., 0., 0., 0., 0., 0., 0.],\n",
       "        [0., 0., 0., 0., 0., 0., 0., 0.]]], dtype=float32)>"
      ]
     },
     "execution_count": 10,
     "metadata": {},
     "output_type": "execute_result"
    }
   ],
   "source": [
    "# you can also have a tensor of just zeros, literally of any shape.\n",
    "\n",
    "tensor_of_zeros = tf.zeros([5,2,8]) # tensor which contains 5 matrices of 2 rows and 8 columns for each\n",
    "tensor_of_zeros"
   ]
  },
  {
   "cell_type": "markdown",
   "metadata": {},
   "source": [
    "#  \n",
    "## There you go. You've successfully completed part one of this tutorial.\n",
    "If you have any personal doubts, feel free to connect with me on [instagram](https://www.instagram.com/shimron.alakkal). \n",
    "See you guys in part 2 of this tutorial..."
   ]
  },
  {
   "cell_type": "code",
   "execution_count": null,
   "metadata": {},
   "outputs": [],
   "source": []
  }
 ],
 "metadata": {
  "kernelspec": {
   "display_name": "Python 3",
   "language": "python",
   "name": "python3"
  },
  "language_info": {
   "codemirror_mode": {
    "name": "ipython",
    "version": 3
   },
   "file_extension": ".py",
   "mimetype": "text/x-python",
   "name": "python",
   "nbconvert_exporter": "python",
   "pygments_lexer": "ipython3",
   "version": "3.8.2"
  }
 },
 "nbformat": 4,
 "nbformat_minor": 4
}
