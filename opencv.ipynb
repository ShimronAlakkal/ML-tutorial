{
 "cells": [
  {
   "cell_type": "code",
   "execution_count": 4,
   "metadata": {},
   "outputs": [],
   "source": [
    "import cv2  ## cv2 stands for computer vision 2"
   ]
  },
  {
   "cell_type": "markdown",
   "metadata": {},
   "source": [
    "## Reading images"
   ]
  },
  {
   "cell_type": "code",
   "execution_count": 5,
   "metadata": {},
   "outputs": [],
   "source": [
    "# to read image(s) from a file, the function is imread(path) . Image should be stored in a variable\n",
    "\n",
    "image = cv2.imread( \"C:/users/hp/desktop/assets/stellar.png\" )"
   ]
  },
  {
   "cell_type": "code",
   "execution_count": 6,
   "metadata": {},
   "outputs": [
    {
     "data": {
      "text/plain": [
       "array([[[255,  18, 111],\n",
       "        [255,  18, 111],\n",
       "        [255,  18, 111],\n",
       "        ...,\n",
       "        [200,  31, 176],\n",
       "        [200,  32, 176],\n",
       "        [200,  31, 176]],\n",
       "\n",
       "       [[255,  18, 111],\n",
       "        [255,  18, 111],\n",
       "        [255,  18, 111],\n",
       "        ...,\n",
       "        [200,  32, 176],\n",
       "        [200,  32, 176],\n",
       "        [199,  31, 176]],\n",
       "\n",
       "       [[255,  18, 111],\n",
       "        [255,  18, 111],\n",
       "        [255,  18, 111],\n",
       "        ...,\n",
       "        [200,  31, 176],\n",
       "        [200,  32, 176],\n",
       "        [200,  31, 176]],\n",
       "\n",
       "       ...,\n",
       "\n",
       "       [[255,  18, 111],\n",
       "        [255,  18, 111],\n",
       "        [255,  18, 111],\n",
       "        ...,\n",
       "        [158,  57, 228],\n",
       "        [157,  58, 229],\n",
       "        [158,  58, 229]],\n",
       "\n",
       "       [[255,  18, 111],\n",
       "        [255,  18, 111],\n",
       "        [255,  18, 111],\n",
       "        ...,\n",
       "        [158,  58, 228],\n",
       "        [158,  57, 228],\n",
       "        [158,  58, 229]],\n",
       "\n",
       "       [[255,  18, 111],\n",
       "        [255,  18, 111],\n",
       "        [255,  18, 111],\n",
       "        ...,\n",
       "        [158,  57, 228],\n",
       "        [157,  58, 229],\n",
       "        [158,  58, 229]]], dtype=uint8)"
      ]
     },
     "execution_count": 6,
     "metadata": {},
     "output_type": "execute_result"
    }
   ],
   "source": [
    "image # this returns the tensor/matrix form of the image"
   ]
  },
  {
   "cell_type": "code",
   "execution_count": 7,
   "metadata": {},
   "outputs": [
    {
     "data": {
      "text/plain": [
       "-1"
      ]
     },
     "execution_count": 7,
     "metadata": {},
     "output_type": "execute_result"
    }
   ],
   "source": [
    "## to display the image, use the imshow( name of the output , image to display )\n",
    " \n",
    "cv2.imshow( \"Stellar image\" , image ) # only using this line of code is going to open the image but close immediately\n",
    "\n",
    "# so to view for a delayed amount of time, use the function waitkey(milliseconds) if put to 0 => infinite\n",
    "cv2.waitKey(0)"
   ]
  },
  {
   "cell_type": "markdown",
   "metadata": {},
   "source": [
    "# Reading videos "
   ]
  },
  {
   "cell_type": "code",
   "execution_count": 8,
   "metadata": {},
   "outputs": [
    {
     "ename": "error",
     "evalue": "OpenCV(4.4.0) C:\\Users\\appveyor\\AppData\\Local\\Temp\\1\\pip-req-build-h4wtvo23\\opencv\\modules\\highgui\\src\\window.cpp:376: error: (-215:Assertion failed) size.width>0 && size.height>0 in function 'cv::imshow'\n",
     "output_type": "error",
     "traceback": [
      "\u001b[1;31m---------------------------------------------------------------------------\u001b[0m",
      "\u001b[1;31merror\u001b[0m                                     Traceback (most recent call last)",
      "\u001b[1;32m<ipython-input-8-e17fe21deda3>\u001b[0m in \u001b[0;36m<module>\u001b[1;34m\u001b[0m\n\u001b[0;32m      7\u001b[0m \u001b[1;32mwhile\u001b[0m \u001b[0mn\u001b[0m \u001b[1;33m==\u001b[0m \u001b[1;36m1\u001b[0m\u001b[1;33m:\u001b[0m\u001b[1;33m\u001b[0m\u001b[1;33m\u001b[0m\u001b[0m\n\u001b[0;32m      8\u001b[0m     \u001b[0mres\u001b[0m \u001b[1;33m,\u001b[0m \u001b[0mframe\u001b[0m \u001b[1;33m=\u001b[0m \u001b[0mvideo_cap\u001b[0m\u001b[1;33m.\u001b[0m\u001b[0mread\u001b[0m\u001b[1;33m(\u001b[0m\u001b[1;33m)\u001b[0m\u001b[1;33m\u001b[0m\u001b[1;33m\u001b[0m\u001b[0m\n\u001b[1;32m----> 9\u001b[1;33m     \u001b[0mcv2\u001b[0m\u001b[1;33m.\u001b[0m\u001b[0mimshow\u001b[0m\u001b[1;33m(\u001b[0m\u001b[1;34m\"video\"\u001b[0m\u001b[1;33m,\u001b[0m\u001b[0mframe\u001b[0m\u001b[1;33m)\u001b[0m\u001b[1;33m\u001b[0m\u001b[1;33m\u001b[0m\u001b[0m\n\u001b[0m\u001b[0;32m     10\u001b[0m \u001b[1;33m\u001b[0m\u001b[0m\n\u001b[0;32m     11\u001b[0m     \u001b[1;32mif\u001b[0m \u001b[0mcv2\u001b[0m\u001b[1;33m.\u001b[0m\u001b[0mwaitKey\u001b[0m\u001b[1;33m(\u001b[0m\u001b[1;36m1\u001b[0m\u001b[1;33m)\u001b[0m \u001b[1;33m&\u001b[0m \u001b[1;36m0xff\u001b[0m \u001b[1;33m==\u001b[0m \u001b[0mord\u001b[0m\u001b[1;33m(\u001b[0m\u001b[1;34m'q'\u001b[0m\u001b[1;33m)\u001b[0m\u001b[1;33m:\u001b[0m \u001b[1;31m#adds a delay of 1 milli sec and checks for a q press in the keyboard\u001b[0m\u001b[1;33m\u001b[0m\u001b[1;33m\u001b[0m\u001b[0m\n",
      "\u001b[1;31merror\u001b[0m: OpenCV(4.4.0) C:\\Users\\appveyor\\AppData\\Local\\Temp\\1\\pip-req-build-h4wtvo23\\opencv\\modules\\highgui\\src\\window.cpp:376: error: (-215:Assertion failed) size.width>0 && size.height>0 in function 'cv::imshow'\n"
     ]
    }
   ],
   "source": [
    "# we need to create a video capture object here ,first. VideoCapture(path)\n",
    "video_cap = cv2.VideoCapture( \"C:/Users/hp/desktop/bid.mp4\" ) # this will import our video \n",
    "\n",
    "# Since a video is a loop of imaegs and we gotta go thorugh each frame to see it, we use video_cap.read()\n",
    "# returns 2 variables success? and image\n",
    "n = 1\n",
    "while n == 1:\n",
    "    res , frame = video_cap.read()\n",
    "    cv2.imshow(\"video\",frame)\n",
    "    \n",
    "    if cv2.waitKey(1) & 0xff == ord('q'): #adds a delay of 1 milli sec and checks for a q press in the keyboard\n",
    "        n = 0\n",
    "        break"
   ]
  },
  {
   "cell_type": "markdown",
   "metadata": {},
   "source": [
    "# Reading a webcam data"
   ]
  },
  {
   "cell_type": "code",
   "execution_count": 2,
   "metadata": {},
   "outputs": [],
   "source": [
    "# inorder to have access to the web cam, we're gonna use the same videoCapture() function but without a file path\n",
    "# use path = 0 and the default webcam is used.\n",
    "import cv2\n",
    "\n",
    "webcam = cv2.VideoCapture(0)\n",
    "\n",
    "# There are certain codes for some params like the window width, height brightness etc \n",
    "\n",
    "webcam.set( 3, 500 ) # 3 is for width and 500 is the width \n",
    "webcam.set(4,  500) # 4 is for hwight and 500 is the height\n",
    "webcam.set(10 , 100) # 10 is for the brightness and 100 is the brightness\n",
    "\n",
    "while 1:\n",
    "    res , frame = webcam.read()\n",
    "    cv2.imshow(\"webcam view\",frame)\n",
    "    \n",
    "    if cv2.waitKey(1) & 0xff == ord('q'):\n",
    "        break"
   ]
  },
  {
   "cell_type": "markdown",
   "metadata": {},
   "source": [
    "\n",
    "\n",
    "\n",
    "# Image manipulations and basic functions"
   ]
  },
  {
   "cell_type": "code",
   "execution_count": 1,
   "metadata": {},
   "outputs": [],
   "source": [
    "import cv2 \n",
    "\n",
    "image = cv2.imread('C:/users/hp/desktop/assets/stellar.png')\n"
   ]
  },
  {
   "cell_type": "markdown",
   "metadata": {},
   "source": [
    "### Graying the image\n",
    "inorder to convert the image to gray from RGB we use `cvtColor( image, cv2.COLOR_BGR2GRAY )`"
   ]
  },
  {
   "cell_type": "code",
   "execution_count": 2,
   "metadata": {},
   "outputs": [
    {
     "data": {
      "text/plain": [
       "-1"
      ]
     },
     "execution_count": 2,
     "metadata": {},
     "output_type": "execute_result"
    }
   ],
   "source": [
    "grayed = cv2.cvtColor(image, cv2.COLOR_BGR2GRAY)\n",
    "\n",
    "cv2.imshow('gray',grayed)\n",
    "cv2.waitKey(0)"
   ]
  },
  {
   "cell_type": "markdown",
   "metadata": {},
   "source": [
    "### Image blurring"
   ]
  },
  {
   "cell_type": "code",
   "execution_count": 3,
   "metadata": {},
   "outputs": [
    {
     "data": {
      "text/plain": [
       "-1"
      ]
     },
     "execution_count": 3,
     "metadata": {},
     "output_type": "execute_result"
    }
   ],
   "source": [
    "# Gaussian Blur reuires the image to be blurred, the kernel (0dd,odd) , sigma \n",
    "# as the kernel increases, so does the blur  ( Kernel is basically a matrix of dimension )\n",
    "# increase the sigma and you'll be scared \n",
    "\n",
    "bimg = cv2.GaussianBlur(grayed , (1,1),4)\n",
    "cv2.imshow('f',bimg)\n",
    "cv2.waitKey(0)"
   ]
  },
  {
   "cell_type": "markdown",
   "metadata": {},
   "source": [
    "### Image edge detection"
   ]
  },
  {
   "cell_type": "code",
   "execution_count": 4,
   "metadata": {},
   "outputs": [
    {
     "data": {
      "text/plain": [
       "-1"
      ]
     },
     "execution_count": 4,
     "metadata": {},
     "output_type": "execute_result"
    }
   ],
   "source": [
    "# canny( image , thresholds )\n",
    "canny = cv2.Canny(grayed ,100,230 )\n",
    "cv2.imshow('f',canny)\n",
    "cv2.waitKey(0)"
   ]
  },
  {
   "cell_type": "markdown",
   "metadata": {},
   "source": [
    "\n",
    "### Image dialation\n",
    "This is basically going to thicken the edges detected by a canny\n",
    "using a kernel (matrix defined using numpy) and then iterations = 1"
   ]
  },
  {
   "cell_type": "code",
   "execution_count": 5,
   "metadata": {},
   "outputs": [
    {
     "data": {
      "text/plain": [
       "-1"
      ]
     },
     "execution_count": 5,
     "metadata": {},
     "output_type": "execute_result"
    }
   ],
   "source": [
    "import numpy as np\n",
    "\n",
    "kernel = np.ones((7,7))\n",
    "\n",
    "dimg = cv2.dilate(canny, kernel ,iterations = 1)\n",
    "cv2.imshow('f',dimg)\n",
    "cv2.waitKey(0)"
   ]
  },
  {
   "cell_type": "markdown",
   "metadata": {},
   "source": [
    "### Image erosion\n",
    "Essentially the opposite of dialaiton. This is going to reduce the size of the canny edges"
   ]
  },
  {
   "cell_type": "code",
   "execution_count": 6,
   "metadata": {},
   "outputs": [
    {
     "data": {
      "text/plain": [
       "-1"
      ]
     },
     "execution_count": 6,
     "metadata": {},
     "output_type": "execute_result"
    }
   ],
   "source": [
    "eimg = cv2.erode(canny,kernel,iterations = 1)\n",
    "cv2.imshow('f',eimg)\n",
    "cv2.waitKey(0)"
   ]
  },
  {
   "cell_type": "markdown",
   "metadata": {},
   "source": [
    "# Resizing and cropping\n",
    "\n",
    "Using cv2.resize( img , dim ) we could reduce/strech the width and height of the img\n",
    "\n",
    "**Note**\n",
    ": In cv2, the direction of +y axis is in the direction of conventional mathematical -y axis"
   ]
  },
  {
   "cell_type": "markdown",
   "metadata": {},
   "source": [
    "### Image resizing"
   ]
  },
  {
   "cell_type": "code",
   "execution_count": 7,
   "metadata": {},
   "outputs": [
    {
     "data": {
      "text/plain": [
       "-1"
      ]
     },
     "execution_count": 7,
     "metadata": {},
     "output_type": "execute_result"
    }
   ],
   "source": [
    "# cv2.resize( img , ( width , height ) )\n",
    "\n",
    "rimg = cv2.resize(image,(160,90))\n",
    "cv2.imshow('f',rimg)\n",
    "cv2.waitKey(0)"
   ]
  },
  {
   "cell_type": "markdown",
   "metadata": {},
   "source": [
    "### Image cropping"
   ]
  },
  {
   "cell_type": "code",
   "execution_count": 8,
   "metadata": {},
   "outputs": [
    {
     "data": {
      "text/plain": [
       "-1"
      ]
     },
     "execution_count": 8,
     "metadata": {},
     "output_type": "execute_result"
    }
   ],
   "source": [
    "# cropping is just slicing the matrix of the image  image[ height , width ]\n",
    "crimg =  image[:300,:500]\n",
    "cv2.imshow('f',crimg)\n",
    "cv2.waitKey(0)"
   ]
  },
  {
   "cell_type": "markdown",
   "metadata": {},
   "source": [
    "# Shapes and texts on images"
   ]
  },
  {
   "cell_type": "code",
   "execution_count": 5,
   "metadata": {},
   "outputs": [],
   "source": [
    "import cv2\n",
    "import numpy as np"
   ]
  },
  {
   "cell_type": "code",
   "execution_count": 6,
   "metadata": {},
   "outputs": [
    {
     "data": {
      "text/plain": [
       "-1"
      ]
     },
     "execution_count": 6,
     "metadata": {},
     "output_type": "execute_result"
    }
   ],
   "source": [
    "# lets just create a blank image \n",
    "bimg = np.zeros((512,512,3))\n",
    "cv2.imshow('f',bimg)\n",
    "cv2.waitKey(0)"
   ]
  },
  {
   "cell_type": "markdown",
   "metadata": {},
   "source": [
    "\n",
    "### Coloring the image\n",
    "This is done by selecting the part of the image the you wanna color and then changing the values there"
   ]
  },
  {
   "cell_type": "code",
   "execution_count": 8,
   "metadata": {},
   "outputs": [
    {
     "data": {
      "text/plain": [
       "-1"
      ]
     },
     "execution_count": 8,
     "metadata": {},
     "output_type": "execute_result"
    }
   ],
   "source": [
    "# the image part to be colored\n",
    "\n",
    "bimg[:40,50:512] = 255,120,0\n",
    "cv2.imshow('f',bimg)\n",
    "cv2.waitKey(0)"
   ]
  },
  {
   "cell_type": "markdown",
   "metadata": {},
   "source": [
    "### Drawing straight lines\n",
    "cv2.line( img , start(x,y),stop(x,y) , color(BGR) )"
   ]
  },
  {
   "cell_type": "code",
   "execution_count": 11,
   "metadata": {},
   "outputs": [
    {
     "data": {
      "text/plain": [
       "-1"
      ]
     },
     "execution_count": 11,
     "metadata": {},
     "output_type": "execute_result"
    }
   ],
   "source": [
    "cv2.line(bimg, (1,4) , (512,67) ,(20,200,150) )\n",
    "cv2.imshow('f',bimg)\n",
    "cv2.waitKey(0)"
   ]
  },
  {
   "cell_type": "markdown",
   "metadata": {},
   "source": [
    "### Rectangles\n",
    "cv2.rectangles(img, start, stop, color, thickness)"
   ]
  },
  {
   "cell_type": "code",
   "execution_count": 13,
   "metadata": {},
   "outputs": [
    {
     "data": {
      "text/plain": [
       "-1"
      ]
     },
     "execution_count": 13,
     "metadata": {},
     "output_type": "execute_result"
    }
   ],
   "source": [
    "cv2.rectangle(bimg, (0,129),(122,412),(12,41,12),12) # to have a filled rect, use cv2.FILLED in place of thickness\n",
    "cv2.imshow('f',bimg)\n",
    "cv2.waitKey(0)"
   ]
  },
  {
   "cell_type": "markdown",
   "metadata": {},
   "source": [
    "### Circle\n",
    "cv2.circle(img, center, radius, color, thickness)"
   ]
  },
  {
   "cell_type": "code",
   "execution_count": 14,
   "metadata": {},
   "outputs": [
    {
     "data": {
      "text/plain": [
       "-1"
      ]
     },
     "execution_count": 14,
     "metadata": {},
     "output_type": "execute_result"
    }
   ],
   "source": [
    "cv2.circle( bimg ,(2,3),200,(234,123,232),cv2.FILLED)\n",
    "cv2.imshow('f',bimg)\n",
    "cv2.waitKey(0)"
   ]
  },
  {
   "cell_type": "markdown",
   "metadata": {},
   "source": [
    "### Text on image\n",
    "cv2.putText( img , 'text',position , font, scale , color, thickness)"
   ]
  },
  {
   "cell_type": "code",
   "execution_count": 24,
   "metadata": {},
   "outputs": [
    {
     "data": {
      "text/plain": [
       "-1"
      ]
     },
     "execution_count": 24,
     "metadata": {},
     "output_type": "execute_result"
    }
   ],
   "source": [
    "cv2.putText(bimg, 'hw',(256,256),cv2.FONT_HERSHEY_COMPLEX,0,(0,255,0),0)\n",
    "cv2.imshow('f',bimg)\n",
    "cv2.waitKey(0)"
   ]
  },
  {
   "cell_type": "code",
   "execution_count": null,
   "metadata": {},
   "outputs": [],
   "source": []
  }
 ],
 "metadata": {
  "kernelspec": {
   "display_name": "Python 3",
   "language": "python",
   "name": "python3"
  },
  "language_info": {
   "codemirror_mode": {
    "name": "ipython",
    "version": 3
   },
   "file_extension": ".py",
   "mimetype": "text/x-python",
   "name": "python",
   "nbconvert_exporter": "python",
   "pygments_lexer": "ipython3",
   "version": "3.8.2"
  }
 },
 "nbformat": 4,
 "nbformat_minor": 4
}
